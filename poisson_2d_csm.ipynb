{
 "cells": [
  {
   "cell_type": "code",
   "execution_count": null,
   "metadata": {},
   "outputs": [],
   "source": [
    "import numpy as np\n",
    "import matplotlib.pyplot as plt"
   ]
  },
  {
   "cell_type": "code",
   "execution_count": null,
   "metadata": {},
   "outputs": [],
   "source": [
    "def generate_poisson_2d_csm(intensity, corr, T = 10):\n",
    "    \n",
    "    # Step 1: find lam[0..2] to match intensity and correlation constraints\n",
    "    lam = [0] * 3\n",
    "    \n",
    "    lam[2] = corr * np.sqrt(intensity[0]) * np.sqrt(intensity[1])\n",
    "    lam[0] = intensity[0] - lam[2]\n",
    "    lam[1] = intensity[1] - lam[2]\n",
    "    \n",
    "    for i in range(3):\n",
    "        lam[i] = round(lam[i], 4)\n",
    "    \n",
    "    print('Intensities of underlying Poisson processes: ', lam)\n",
    "    \n",
    "    # Check that intensities are nonnegative\n",
    "    for i in range(3):\n",
    "        if(lam[i] < 0):\n",
    "            print('Generation failed.')\n",
    "            return\n",
    "    \n",
    "    \n",
    "    # Step 2: generate the Poisson jumps for each independent Poisson variable\n",
    "    n_events = np.random.poisson(np.multiply(T, lam))\n",
    "    \n",
    "    jumps = [[], []]\n",
    "    \n",
    "    for i in range(3):\n",
    "        arrival_time = np.random.uniform(0, T, n_events[i])\n",
    "        for j in range(n_events[i]):\n",
    "            \n",
    "            arrival_time = np.random.uniform(0, T)\n",
    "            if(i == 0 or i == 2):\n",
    "                jumps[0].append(arrival_time)\n",
    "            if(i == 1 or i == 2):\n",
    "                jumps[1].append(arrival_time)\n",
    "\n",
    "    # Sort the jump times and convert to array\n",
    "    for i in range(2):\n",
    "        jumps[i].append(0)\n",
    "        jumps[i].append(T + 0.5)\n",
    "        jumps[i].sort()\n",
    "        jumps[i] = np.asarray(jumps[i])\n",
    "    \n",
    "    \n",
    "    # Step 3: Plot on a graph\n",
    "    plt.xlim(0, T)\n",
    "    for i in range(2):\n",
    "        plt.step(jumps[i], np.arange(jumps[i].size), where = 'post')\n",
    "\n",
    "    plt.legend(['Process 1', 'Process 2'])"
   ]
  },
  {
   "cell_type": "code",
   "execution_count": null,
   "metadata": {},
   "outputs": [],
   "source": [
    "generate_poisson_2d_csm(intensity = [1, 1], corr = 1.0)"
   ]
  },
  {
   "cell_type": "code",
   "execution_count": null,
   "metadata": {},
   "outputs": [],
   "source": [
    "generate_poisson_2d_csm(intensity = [1, 2], corr = 0.7)"
   ]
  },
  {
   "cell_type": "code",
   "execution_count": null,
   "metadata": {},
   "outputs": [],
   "source": [
    "generate_poisson_2d_csm(intensity = [1, 5], corr = 0.5)"
   ]
  },
  {
   "cell_type": "code",
   "execution_count": null,
   "metadata": {},
   "outputs": [],
   "source": [
    "generate_poisson_2d_csm(intensity = [1, 1], corr = -0.01)"
   ]
  }
 ],
 "metadata": {
  "kernelspec": {
   "display_name": "Python 3",
   "language": "python",
   "name": "python3"
  },
  "language_info": {
   "codemirror_mode": {
    "name": "ipython",
    "version": 3
   },
   "file_extension": ".py",
   "mimetype": "text/x-python",
   "name": "python",
   "nbconvert_exporter": "python",
   "pygments_lexer": "ipython3",
   "version": "3.6.6"
  }
 },
 "nbformat": 4,
 "nbformat_minor": 2
}
