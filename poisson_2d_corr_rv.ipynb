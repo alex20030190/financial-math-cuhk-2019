{
 "cells": [
  {
   "cell_type": "code",
   "execution_count": 2,
   "metadata": {},
   "outputs": [],
   "source": [
    "import numpy as np\n",
    "import matplotlib.pyplot as plt"
   ]
  },
  {
   "cell_type": "code",
   "execution_count": 87,
   "metadata": {},
   "outputs": [],
   "source": [
    "def ejd(N_max, poi, mode):\n",
    "    \n",
    "    if(mode == 'min'):\n",
    "        poi[1, :] = poi[1, ::-1]\n",
    "        supp = [(0, N_max)]\n",
    "    else:\n",
    "        supp = [(0, 0)]\n",
    "    \n",
    "    cdf = np.ndarray((2, N_max + 1))\n",
    "    for i in range(2):\n",
    "        cdf[i, 0] = poi[i, 0]\n",
    "        for j in range(1, N_max + 1):\n",
    "            cdf[i, j] = cdf[i, j - 1] + poi[i, j]\n",
    "    \n",
    "    \n",
    "    z = min(cdf[0][0], cdf[1][0])\n",
    "    prob = [z]\n",
    "    ptr = [0, 0]\n",
    "    ev = 0\n",
    "    \n",
    "    while (ptr[0] < N_max or ptr[1] < N_max):\n",
    "        if (ptr[1] == N_max or (ptr[0] < N_max and \\\n",
    "                cdf[0][ptr[0]] < cdf[1][ptr[1]])):\n",
    "            ptr[0] = ptr[0] + 1\n",
    "        else:\n",
    "            ptr[1] = ptr[1] + 1\n",
    "        \n",
    "        old_z = z\n",
    "        z = min(cdf[0][ptr[0]], cdf[1][ptr[1]])\n",
    "        prob.append(z - old_z)\n",
    "        \n",
    "        if(mode == 'min'):\n",
    "            supp.append((ptr[0], N_max - ptr[1]))\n",
    "            ev = ev + ptr[0] * (N_max - ptr[1]) * (z - old_z)\n",
    "        else:\n",
    "            supp.append((ptr[0], ptr[1]))\n",
    "            ev = ev + ptr[0] * ptr[1] * (z - old_z)\n",
    "    \n",
    "    return supp, prob, ev"
   ]
  },
  {
   "cell_type": "code",
   "execution_count": 102,
   "metadata": {},
   "outputs": [],
   "source": [
    "def generate_poisson_2d_corr_rv(intensity, corr, T = 10, N_max = 1000):\n",
    "    \n",
    "    for i in range(2):\n",
    "        intensity[i] = intensity[i] * T\n",
    "    \n",
    "    \n",
    "    # Step 1: Generate probability distribution of Poisson\n",
    "    poi = np.ndarray((2, N_max + 1))\n",
    "    for i in range(2):\n",
    "        cur_value = np.exp(-intensity[i])\n",
    "        poi[i, 0] = cur_value\n",
    "        for j in range(1, N_max + 1):\n",
    "            cur_value = cur_value * intensity[i] / j\n",
    "            poi[i, j] = cur_value\n",
    "    \n",
    "    \n",
    "    # Step 2: Calculate the extreme values of E[N1 N2]\n",
    "    # First, maximal correlation\n",
    "    supp_max, prob_max, ev_max = ejd(N_max, poi, mode = 'max')\n",
    "    # Next, minimal correlation\n",
    "    supp_min, prob_min, ev_min = ejd(N_max, poi, mode = 'min')\n",
    "    \n",
    "    print('Max ev =', ev_max)\n",
    "    print('Min ev =', ev_min)\n",
    "    \n",
    "    \n",
    "    # Step 3: Draw (n1, n2) ~ (N1, N2) appropriately\n",
    "    ev_target = intensity[0] * intensity[1] + corr * np.sqrt(intensity[0] * intensity[1])\n",
    "    \n",
    "    print('Target ev =', ev_target)\n",
    "    \n",
    "    epsilon = 1e-9\n",
    "    \n",
    "    if(ev_target < ev_min - epsilon):\n",
    "        print('Generation failed.')\n",
    "        return\n",
    "    elif(ev_target > ev_max + epsilon):\n",
    "        print('Generation failed.')\n",
    "        return\n",
    "    else:\n",
    "        ratio = (ev_target - ev_min) / (ev_max - ev_min)\n",
    "        ratio = min(ratio, 1.0)\n",
    "        ratio = max(ratio, 0.0)\n",
    "    \n",
    "    randnum = np.random.uniform(0, 1)\n",
    "    \n",
    "    n = [0] * 2\n",
    "    \n",
    "    if(randnum < ratio):\n",
    "        # draw from maximal correlation support\n",
    "        prob = np.random.uniform(0, 1)\n",
    "        for i in range(len(supp_max)):\n",
    "            if prob <= prob_max[i] or i == len(supp_max) - 1:\n",
    "                (n[0], n[1]) = supp_max[i]\n",
    "                break\n",
    "            else:\n",
    "                prob = prob - prob_max[i]\n",
    "    else:\n",
    "        # draw from minimal correlation support\n",
    "        prob = np.random.uniform(0, 1)\n",
    "        for i in range(len(supp_min)):\n",
    "            if prob <= prob_min[i] or i == len(supp_min) - 1:\n",
    "                (n[0], n[1]) = supp_min[i]\n",
    "                break\n",
    "            else:\n",
    "                prob = prob - prob_min[i]\n",
    "\n",
    "\n",
    "    # Step 4: Place jumps uniformly in [0, T], then plot\n",
    "    \n",
    "    plt.xlim(0, T)\n",
    "    \n",
    "    for i in range(2):\n",
    "        jumps = [0, T + 0.5]\n",
    "        for j in range(n[i]):\n",
    "            arrival_time = np.random.uniform(0, T)\n",
    "            jumps.append(arrival_time)\n",
    "        \n",
    "        jumps.sort()\n",
    "        jumps = np.asarray(jumps)\n",
    "        plt.step(jumps, np.arange(jumps.size), where = 'post')\n",
    "        \n",
    "    plt.legend(['Process 1', 'Process 2'])"
   ]
  },
  {
   "cell_type": "code",
   "execution_count": 105,
   "metadata": {},
   "outputs": [
    {
     "name": "stdout",
     "output_type": "stream",
     "text": [
      "Max ev = 419.9999999999985\n",
      "Min ev = 380.19500821286135\n",
      "Target ev = 380.0\n",
      "Generation failed.\n"
     ]
    }
   ],
   "source": [
    "generate_poisson_2d_corr_rv(intensity = [2, 2], corr = -1.0)\n"
   ]
  },
  {
   "cell_type": "code",
   "execution_count": 107,
   "metadata": {},
   "outputs": [
    {
     "name": "stdout",
     "output_type": "stream",
     "text": [
      "Max ev = 109.99999999999964\n",
      "Min ev = 90.20029076026648\n",
      "Target ev = 91.0\n"
     ]
    },
    {
     "data": {
      "image/png": "[encoded data removed]",
      "text/plain": [
       "<Figure size 432x288 with 1 Axes>"
      ]
     },
     "metadata": {
      "needs_background": "light"
     },
     "output_type": "display_data"
    }
   ],
   "source": [
    "generate_poisson_2d_corr_rv(intensity = [1, 1], corr = -0.9)"
   ]
  },
  {
   "cell_type": "code",
   "execution_count": 108,
   "metadata": {},
   "outputs": [
    {
     "name": "stdout",
     "output_type": "stream",
     "text": [
      "Max ev = 214.05203758896366\n",
      "Min ev = 186.07141746466363\n",
      "Target ev = 209.89949493661166\n"
     ]
    },
    {
     "data": {
      "image/png": "[encoded data removed]",
      "text/plain": [
       "<Figure size 432x288 with 1 Axes>"
      ]
     },
     "metadata": {
      "needs_background": "light"
     },
     "output_type": "display_data"
    }
   ],
   "source": [
    "generate_poisson_2d_corr_rv(intensity = [1, 2], corr = 0.7)"
   ]
  },
  {
   "cell_type": "code",
   "execution_count": 109,
   "metadata": {},
   "outputs": [
    {
     "name": "stdout",
     "output_type": "stream",
     "text": [
      "Max ev = 522.2290692469525\n",
      "Min ev = 477.88479162540966\n",
      "Target ev = 511.180339887499\n"
     ]
    },
    {
     "data": {
      "image/png": "[encoded data removed]",
      "text/plain": [
       "<Figure size 432x288 with 1 Axes>"
      ]
     },
     "metadata": {
      "needs_background": "light"
     },
     "output_type": "display_data"
    }
   ],
   "source": [
    "generate_poisson_2d_corr_rv(intensity = [1, 5], corr = 0.5)"
   ]
  },
  {
   "cell_type": "code",
   "execution_count": 110,
   "metadata": {},
   "outputs": [
    {
     "name": "stdout",
     "output_type": "stream",
     "text": [
      "Max ev = 109.99999999999964\n",
      "Min ev = 90.20029076026648\n",
      "Target ev = 99.9\n"
     ]
    },
    {
     "data": {
      "image/png": "[encoded data removed]",
      "text/plain": [
       "<Figure size 432x288 with 1 Axes>"
      ]
     },
     "metadata": {
      "needs_background": "light"
     },
     "output_type": "display_data"
    }
   ],
   "source": [
    "generate_poisson_2d_corr_rv(intensity = [1, 1], corr = -0.01)"
   ]
  },
  {
   "cell_type": "code",
   "execution_count": 112,
   "metadata": {},
   "outputs": [
    {
     "name": "stdout",
     "output_type": "stream",
     "text": [
      "Max ev = 1842.3340147334188\n",
      "Min ev = 1757.7777707291382\n",
      "Target ev = 1757.5735931288073\n",
      "Generation failed.\n"
     ]
    }
   ],
   "source": [
    "generate_poisson_2d_corr_rv(intensity = [3, 6], corr = -1.0)"
   ]
  }
 ],
 "metadata": {
  "kernelspec": {
   "display_name": "Python 3",
   "language": "python",
   "name": "python3"
  },
  "language_info": {
   "codemirror_mode": {
    "name": "ipython",
    "version": 3
   },
   "file_extension": ".py",
   "mimetype": "text/x-python",
   "name": "python",
   "nbconvert_exporter": "python",
   "pygments_lexer": "ipython3",
   "version": "3.6.7"
  }
 },
 "nbformat": 4,
 "nbformat_minor": 2
}
